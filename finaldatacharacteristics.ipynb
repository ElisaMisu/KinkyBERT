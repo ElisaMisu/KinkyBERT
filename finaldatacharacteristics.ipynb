{
  "nbformat": 4,
  "nbformat_minor": 0,
  "metadata": {
    "colab": {
      "provenance": [],
      "machine_shape": "hm",
      "gpuType": "A100",
      "authorship_tag": "ABX9TyMHuBENMMzsl18t77vT2/qt",
      "include_colab_link": true
    },
    "kernelspec": {
      "name": "python3",
      "display_name": "Python 3"
    },
    "language_info": {
      "name": "python"
    },
    "accelerator": "GPU"
  },
  "cells": [
    {
      "cell_type": "markdown",
      "metadata": {
        "id": "view-in-github",
        "colab_type": "text"
      },
      "source": [
        "<a href=\"https://colab.research.google.com/github/ElisaMisu/KinkyBERT/blob/main/finaldatacharacteristics.ipynb\" target=\"_parent\"><img src=\"https://colab.research.google.com/assets/colab-badge.svg\" alt=\"Open In Colab\"/></a>"
      ]
    },
    {
      "cell_type": "code",
      "execution_count": 1,
      "metadata": {
        "colab": {
          "base_uri": "https://localhost:8080/"
        },
        "id": "7OajzBNqY6Yu",
        "outputId": "da3ff77f-45ad-420a-924d-5f6316b6fcbe"
      },
      "outputs": [
        {
          "output_type": "stream",
          "name": "stdout",
          "text": [
            "Mounted at /content/drive\n",
            "First few rows of the dataframe:\n",
            "                                            selftext  \\\n",
            "0  A place for members of r/Taboo_Confessions to ...   \n",
            "1  So this happend 2 years ago when her mom and m...   \n",
            "2  So I was walking through the house and I guess...   \n",
            "3  I love sniffing my girlfriends sisters panties...   \n",
            "4  \\n\\nA long time ago I let my dog inside. I lai...   \n",
            "\n",
            "                                      processed_text  \n",
            "0              place members r tabooconfessions chat  \n",
            "1  happend years ago mom self moved togheter woul...  \n",
            "2  walking house guess daughter nt realize gotten...  \n",
            "3  love sniffing girlfriends sisters panties love...  \n",
            "4  long time ago let dog inside laid floor watch ...  \n",
            "\n",
            "Dataframe Shape:\n",
            "(114612, 2)\n",
            "\n",
            "DataFrame Info:\n",
            "<class 'pandas.core.frame.DataFrame'>\n",
            "RangeIndex: 114612 entries, 0 to 114611\n",
            "Data columns (total 2 columns):\n",
            " #   Column          Non-Null Count   Dtype \n",
            "---  ------          --------------   ----- \n",
            " 0   selftext        114612 non-null  object\n",
            " 1   processed_text  114612 non-null  object\n",
            "dtypes: object(2)\n",
            "memory usage: 1.7+ MB\n",
            "\n",
            "Missing Values per Column:\n",
            "selftext          0\n",
            "processed_text    0\n",
            "dtype: int64\n",
            "\n",
            "Descriptive Statistics (Numerical Columns):\n",
            "            selftext                                     processed_text\n",
            "count         114612                                             114612\n",
            "unique        109701                                             107944\n",
            "top     &amp;#x200B;  pegged different guys take level convincing ev...\n",
            "freq              39                                                 62\n",
            "\n",
            "Descriptive Statistics (Categorical Columns):\n",
            "            selftext                                     processed_text\n",
            "count         114612                                             114612\n",
            "unique        109701                                             107944\n",
            "top     &amp;#x200B;  pegged different guys take level convincing ev...\n",
            "freq              39                                                 62\n",
            "\n",
            "Unique Values per Column:\n",
            "selftext: 109701 unique values\n",
            "processed_text: 107944 unique values\n",
            "\n",
            "Number of Duplicate Rows:\n",
            "4911\n"
          ]
        }
      ],
      "source": [
        "import pandas as pd\n",
        "import os\n",
        "\n",
        "# Mount Google Drive\n",
        "from google.colab import drive\n",
        "drive.mount('/content/drive')\n",
        "\n",
        "# Load the preprocessed texts from the CSV file in Google Drive\n",
        "file_path = '/content/drive/MyDrive/subreddits23/processed_texts.csv'\n",
        "processed_df = pd.read_csv(file_path)\n",
        "\n",
        "# Check the contents of the dataframe\n",
        "print(\"First few rows of the dataframe:\")\n",
        "print(processed_df.head())\n",
        "\n",
        "# Ensure 'processed_text' column exists\n",
        "if 'processed_text' not in processed_df.columns:\n",
        "    raise ValueError(\"The 'processed_text' column is missing from the dataframe.\")\n",
        "\n",
        "# Display the shape of the dataframe\n",
        "print(\"\\nDataframe Shape:\")\n",
        "print(processed_df.shape)\n",
        "\n",
        "# Display information about the dataframe (data types, non-null counts, memory usage)\n",
        "print(\"\\nDataFrame Info:\")\n",
        "processed_df.info()\n",
        "\n",
        "# Check for missing values\n",
        "print(\"\\nMissing Values per Column:\")\n",
        "print(processed_df.isnull().sum())\n",
        "\n",
        "# Display descriptive statistics for numerical columns\n",
        "print(\"\\nDescriptive Statistics (Numerical Columns):\")\n",
        "print(processed_df.describe())\n",
        "\n",
        "# Display descriptive statistics for categorical columns\n",
        "print(\"\\nDescriptive Statistics (Categorical Columns):\")\n",
        "print(processed_df.describe(include=['object']))\n",
        "\n",
        "# Check the number of unique values in each column\n",
        "print(\"\\nUnique Values per Column:\")\n",
        "for column in processed_df.columns:\n",
        "    print(f\"{column}: {processed_df[column].nunique()} unique values\")\n",
        "\n",
        "# Check for any duplicates\n",
        "print(\"\\nNumber of Duplicate Rows:\")\n",
        "print(processed_df.duplicated().sum())\n"
      ]
    }
  ]
}